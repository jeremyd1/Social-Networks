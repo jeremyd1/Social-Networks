{
 "cells": [
  {
   "cell_type": "markdown",
   "metadata": {},
   "source": [
    "## Workplace Contact Data Set "
   ]
  },
  {
   "cell_type": "code",
   "execution_count": 188,
   "metadata": {},
   "outputs": [
    {
     "name": "stderr",
     "output_type": "stream",
     "text": [
      "/Users/Jeremyd/anaconda3/lib/python3.6/site-packages/matplotlib/__init__.py:1405: UserWarning: \n",
      "This call to matplotlib.use() has no effect because the backend has already\n",
      "been chosen; matplotlib.use() must be called *before* pylab, matplotlib.pyplot,\n",
      "or matplotlib.backends is imported for the first time.\n",
      "\n",
      "  warnings.warn(_use_error_msg)\n"
     ]
    }
   ],
   "source": [
    "import pandas as pd\n",
    "import numpy as np\n",
    "import networkx as nx\n",
    "\n",
    "import matplotlib\n",
    "matplotlib.use('Agg')\n",
    "%matplotlib inline"
   ]
  },
  {
   "cell_type": "code",
   "execution_count": 189,
   "metadata": {},
   "outputs": [],
   "source": [
    "# Read in Contacts Data\n",
    "contacts = pd.read_csv(\"../data/contacts.csv\", header = None)\n",
    "\n",
    "# Read in Department Data\n",
    "department = pd.read_csv(\"../data/department.csv\", header = None)"
   ]
  },
  {
   "cell_type": "markdown",
   "metadata": {},
   "source": [
    "**Contact Data**\n",
    "* number of rows = 9827\n",
    "    * 9827 f-f interactions\n",
    "* number of columns = 3\n",
    "    * time\n",
    "    * id of p1\n",
    "    * id of p2"
   ]
  },
  {
   "cell_type": "code",
   "execution_count": 190,
   "metadata": {},
   "outputs": [
    {
     "data": {
      "text/plain": [
       "(9827, 3)"
      ]
     },
     "execution_count": 190,
     "metadata": {},
     "output_type": "execute_result"
    }
   ],
   "source": [
    "# dim stores [num rows, num cols]\n",
    "c_dimension = contacts.shape\n",
    "c_num_rows = c_dimension[0]\n",
    "c_num_cols = c_dimension[1]\n",
    "c_dimension"
   ]
  },
  {
   "cell_type": "markdown",
   "metadata": {},
   "source": [
    "**Department Data**\n",
    "* number of rows = 92\n",
    "    * 92 employees\n",
    "* number of columns = 2\n",
    "    * id\n",
    "    * department"
   ]
  },
  {
   "cell_type": "code",
   "execution_count": 191,
   "metadata": {},
   "outputs": [
    {
     "data": {
      "text/plain": [
       "(92, 2)"
      ]
     },
     "execution_count": 191,
     "metadata": {},
     "output_type": "execute_result"
    }
   ],
   "source": [
    "d_dimension = department.shape\n",
    "d_num_rows = d_dimension[0]\n",
    "d_num_cols = d_dimension[1]\n",
    "d_dimension"
   ]
  },
  {
   "cell_type": "markdown",
   "metadata": {},
   "source": [
    "**Cleaning the Data**  \n",
    "* Need to modify time column to start from 0"
   ]
  },
  {
   "cell_type": "code",
   "execution_count": 192,
   "metadata": {
    "collapsed": true
   },
   "outputs": [],
   "source": [
    "# fixes time\n",
    "def reduce_time(t):\n",
    "    return t - 28800"
   ]
  },
  {
   "cell_type": "code",
   "execution_count": 193,
   "metadata": {
    "collapsed": true
   },
   "outputs": [],
   "source": [
    "contacts[0] = contacts[0].apply(reduce_time)"
   ]
  },
  {
   "cell_type": "markdown",
   "metadata": {},
   "source": [
    "**Combine Data Sets - Contacts + Department**"
   ]
  },
  {
   "cell_type": "markdown",
   "metadata": {
    "collapsed": true
   },
   "source": [
    "* Use Department Data Frame to build a map "
   ]
  },
  {
   "cell_type": "code",
   "execution_count": 194,
   "metadata": {},
   "outputs": [],
   "source": [
    "map_id_dep = {}\n",
    "for i in range(d_num_rows):\n",
    "    map_id_dep[department.iloc[i, 0]] = department.iloc[i, 1]"
   ]
  },
  {
   "cell_type": "markdown",
   "metadata": {},
   "source": [
    "* Define a function that adds departments to a df"
   ]
  },
  {
   "cell_type": "code",
   "execution_count": 195,
   "metadata": {},
   "outputs": [],
   "source": [
    "def add_department(people, name, df, map):\n",
    "    '''\n",
    "    people: series of people's id\n",
    "    name: string for name of the column\n",
    "    df: dataframe\n",
    "    map: map of id to department\n",
    "    '''\n",
    "    dep = []\n",
    "    for ind in people:\n",
    "        ind_dep = map.get(ind, -1)\n",
    "        dep.append(ind_dep)\n",
    "    \n",
    "    df[name] = np.array(dep)"
   ]
  },
  {
   "cell_type": "code",
   "execution_count": 196,
   "metadata": {},
   "outputs": [
    {
     "data": {
      "text/html": [
       "<div>\n",
       "<style>\n",
       "    .dataframe thead tr:only-child th {\n",
       "        text-align: right;\n",
       "    }\n",
       "\n",
       "    .dataframe thead th {\n",
       "        text-align: left;\n",
       "    }\n",
       "\n",
       "    .dataframe tbody tr th {\n",
       "        vertical-align: top;\n",
       "    }\n",
       "</style>\n",
       "<table border=\"1\" class=\"dataframe\">\n",
       "  <thead>\n",
       "    <tr style=\"text-align: right;\">\n",
       "      <th></th>\n",
       "      <th>0</th>\n",
       "      <th>1</th>\n",
       "      <th>2</th>\n",
       "      <th>p1 department</th>\n",
       "    </tr>\n",
       "  </thead>\n",
       "  <tbody>\n",
       "    <tr>\n",
       "      <th>0</th>\n",
       "      <td>20</td>\n",
       "      <td>492</td>\n",
       "      <td>938</td>\n",
       "      <td>SRH</td>\n",
       "    </tr>\n",
       "    <tr>\n",
       "      <th>1</th>\n",
       "      <td>60</td>\n",
       "      <td>267</td>\n",
       "      <td>272</td>\n",
       "      <td>DSE</td>\n",
       "    </tr>\n",
       "    <tr>\n",
       "      <th>2</th>\n",
       "      <td>500</td>\n",
       "      <td>181</td>\n",
       "      <td>826</td>\n",
       "      <td>DSE</td>\n",
       "    </tr>\n",
       "    <tr>\n",
       "      <th>3</th>\n",
       "      <td>980</td>\n",
       "      <td>79</td>\n",
       "      <td>181</td>\n",
       "      <td>DSE</td>\n",
       "    </tr>\n",
       "    <tr>\n",
       "      <th>4</th>\n",
       "      <td>1200</td>\n",
       "      <td>150</td>\n",
       "      <td>196</td>\n",
       "      <td>SRH</td>\n",
       "    </tr>\n",
       "  </tbody>\n",
       "</table>\n",
       "</div>"
      ],
      "text/plain": [
       "      0    1    2 p1 department\n",
       "0    20  492  938           SRH\n",
       "1    60  267  272           DSE\n",
       "2   500  181  826           DSE\n",
       "3   980   79  181           DSE\n",
       "4  1200  150  196           SRH"
      ]
     },
     "execution_count": 196,
     "metadata": {},
     "output_type": "execute_result"
    }
   ],
   "source": [
    "p1 = contacts[1] \n",
    "n1 = \"p1 department\"\n",
    "add_department(p1, n1, contacts, map_id_dep)\n",
    "\n",
    "contacts.head()"
   ]
  },
  {
   "cell_type": "code",
   "execution_count": 197,
   "metadata": {},
   "outputs": [
    {
     "data": {
      "text/html": [
       "<div>\n",
       "<style>\n",
       "    .dataframe thead tr:only-child th {\n",
       "        text-align: right;\n",
       "    }\n",
       "\n",
       "    .dataframe thead th {\n",
       "        text-align: left;\n",
       "    }\n",
       "\n",
       "    .dataframe tbody tr th {\n",
       "        vertical-align: top;\n",
       "    }\n",
       "</style>\n",
       "<table border=\"1\" class=\"dataframe\">\n",
       "  <thead>\n",
       "    <tr style=\"text-align: right;\">\n",
       "      <th></th>\n",
       "      <th>0</th>\n",
       "      <th>1</th>\n",
       "      <th>2</th>\n",
       "      <th>p1 department</th>\n",
       "      <th>p2 department</th>\n",
       "    </tr>\n",
       "  </thead>\n",
       "  <tbody>\n",
       "    <tr>\n",
       "      <th>0</th>\n",
       "      <td>20</td>\n",
       "      <td>492</td>\n",
       "      <td>938</td>\n",
       "      <td>SRH</td>\n",
       "      <td>DMCT</td>\n",
       "    </tr>\n",
       "    <tr>\n",
       "      <th>1</th>\n",
       "      <td>60</td>\n",
       "      <td>267</td>\n",
       "      <td>272</td>\n",
       "      <td>DSE</td>\n",
       "      <td>DSE</td>\n",
       "    </tr>\n",
       "    <tr>\n",
       "      <th>2</th>\n",
       "      <td>500</td>\n",
       "      <td>181</td>\n",
       "      <td>826</td>\n",
       "      <td>DSE</td>\n",
       "      <td>DISQ</td>\n",
       "    </tr>\n",
       "    <tr>\n",
       "      <th>3</th>\n",
       "      <td>980</td>\n",
       "      <td>79</td>\n",
       "      <td>181</td>\n",
       "      <td>DSE</td>\n",
       "      <td>DSE</td>\n",
       "    </tr>\n",
       "    <tr>\n",
       "      <th>4</th>\n",
       "      <td>1200</td>\n",
       "      <td>150</td>\n",
       "      <td>196</td>\n",
       "      <td>SRH</td>\n",
       "      <td>DSE</td>\n",
       "    </tr>\n",
       "  </tbody>\n",
       "</table>\n",
       "</div>"
      ],
      "text/plain": [
       "      0    1    2 p1 department p2 department\n",
       "0    20  492  938           SRH          DMCT\n",
       "1    60  267  272           DSE           DSE\n",
       "2   500  181  826           DSE          DISQ\n",
       "3   980   79  181           DSE           DSE\n",
       "4  1200  150  196           SRH           DSE"
      ]
     },
     "execution_count": 197,
     "metadata": {},
     "output_type": "execute_result"
    }
   ],
   "source": [
    "p2 = contacts[2]\n",
    "n2 = \"p2 department\"\n",
    "add_department(p2, n2, contacts, map_id_dep)\n",
    "\n",
    "contacts.head()"
   ]
  },
  {
   "cell_type": "markdown",
   "metadata": {},
   "source": [
    "### Contacts - Cleaned and Modified DF"
   ]
  },
  {
   "cell_type": "code",
   "execution_count": 198,
   "metadata": {},
   "outputs": [
    {
     "data": {
      "text/html": [
       "<div>\n",
       "<style>\n",
       "    .dataframe thead tr:only-child th {\n",
       "        text-align: right;\n",
       "    }\n",
       "\n",
       "    .dataframe thead th {\n",
       "        text-align: left;\n",
       "    }\n",
       "\n",
       "    .dataframe tbody tr th {\n",
       "        vertical-align: top;\n",
       "    }\n",
       "</style>\n",
       "<table border=\"1\" class=\"dataframe\">\n",
       "  <thead>\n",
       "    <tr style=\"text-align: right;\">\n",
       "      <th></th>\n",
       "      <th>time</th>\n",
       "      <th>p1</th>\n",
       "      <th>p2</th>\n",
       "      <th>p1 department</th>\n",
       "      <th>p2 department</th>\n",
       "    </tr>\n",
       "  </thead>\n",
       "  <tbody>\n",
       "    <tr>\n",
       "      <th>0</th>\n",
       "      <td>20</td>\n",
       "      <td>492</td>\n",
       "      <td>938</td>\n",
       "      <td>SRH</td>\n",
       "      <td>DMCT</td>\n",
       "    </tr>\n",
       "    <tr>\n",
       "      <th>1</th>\n",
       "      <td>60</td>\n",
       "      <td>267</td>\n",
       "      <td>272</td>\n",
       "      <td>DSE</td>\n",
       "      <td>DSE</td>\n",
       "    </tr>\n",
       "    <tr>\n",
       "      <th>2</th>\n",
       "      <td>500</td>\n",
       "      <td>181</td>\n",
       "      <td>826</td>\n",
       "      <td>DSE</td>\n",
       "      <td>DISQ</td>\n",
       "    </tr>\n",
       "    <tr>\n",
       "      <th>3</th>\n",
       "      <td>980</td>\n",
       "      <td>79</td>\n",
       "      <td>181</td>\n",
       "      <td>DSE</td>\n",
       "      <td>DSE</td>\n",
       "    </tr>\n",
       "    <tr>\n",
       "      <th>4</th>\n",
       "      <td>1200</td>\n",
       "      <td>150</td>\n",
       "      <td>196</td>\n",
       "      <td>SRH</td>\n",
       "      <td>DSE</td>\n",
       "    </tr>\n",
       "  </tbody>\n",
       "</table>\n",
       "</div>"
      ],
      "text/plain": [
       "   time   p1   p2 p1 department p2 department\n",
       "0    20  492  938           SRH          DMCT\n",
       "1    60  267  272           DSE           DSE\n",
       "2   500  181  826           DSE          DISQ\n",
       "3   980   79  181           DSE           DSE\n",
       "4  1200  150  196           SRH           DSE"
      ]
     },
     "execution_count": 198,
     "metadata": {},
     "output_type": "execute_result"
    }
   ],
   "source": [
    "contacts = contacts.rename(index = str, columns = {0 : \"time\", 1 : \"p1\", 2 : \"p2\"})\n",
    "contacts.head()"
   ]
  },
  {
   "cell_type": "markdown",
   "metadata": {},
   "source": [
    "### graph_id - networkx graph (nodes = id)"
   ]
  },
  {
   "cell_type": "code",
   "execution_count": 199,
   "metadata": {},
   "outputs": [],
   "source": [
    "graph_id = nx.from_pandas_dataframe(contacts, \"p1\", \"p2\", \"time\")\n"
   ]
  },
  {
   "cell_type": "code",
   "execution_count": 200,
   "metadata": {},
   "outputs": [
    {
     "data": {
      "text/plain": [
       "NodeView((492, 938, 267, 272, 181, 826, 79, 150, 196, 21, 205, 448, 765, 39, 253, 80, 123, 845, 118, 311, 95, 771, 153, 164, 179, 481, 122, 120, 819, 431, 778, 271, 601, 15, 56, 194, 786, 603, 496, 275, 222, 50, 172, 29, 223, 116, 285, 762, 63, 939, 335, 105, 113, 513, 119, 154, 494, 48, 209, 17, 66, 102, 134, 240, 242, 804, 511, 875, 184, 499, 268, 185, 533, 987, 210, 35, 131, 211, 751, 265, 784, 273, 662, 709, 101, 779, 132, 255, 213, 791, 743, 87))"
      ]
     },
     "execution_count": 200,
     "metadata": {},
     "output_type": "execute_result"
    }
   ],
   "source": [
    "graph_id.nodes()"
   ]
  },
  {
   "cell_type": "code",
   "execution_count": 201,
   "metadata": {
    "scrolled": false
   },
   "outputs": [
    {
     "data": {
      "image/png": "[encoded data removed]",
      "text/plain": [
       "<matplotlib.figure.Figure at 0x114169ac8>"
      ]
     },
     "metadata": {},
     "output_type": "display_data"
    }
   ],
   "source": [
    "nx.draw(graph_id)"
   ]
  },
  {
   "cell_type": "markdown",
   "metadata": {},
   "source": [
    "Edges in a Graph represent at least 1 face to face interaction between employees"
   ]
  },
  {
   "cell_type": "code",
   "execution_count": 217,
   "metadata": {},
   "outputs": [
    {
     "data": {
      "text/plain": [
       "[210, 845, 826, 804, 273, 253, 265, 268, 185, 778, 743, 255]"
      ]
     },
     "execution_count": 217,
     "metadata": {},
     "output_type": "execute_result"
    }
   ],
   "source": [
    "list(graph_id.neighbors(35))"
   ]
  },
  {
   "cell_type": "markdown",
   "metadata": {},
   "source": [
    "Employee 35 interacted with 12 unique people"
   ]
  },
  {
   "cell_type": "code",
   "execution_count": 216,
   "metadata": {},
   "outputs": [
    {
     "data": {
      "text/plain": [
       "array([210, 845, 826, 804, 273, 253, 265, 268, 185, 778, 743, 255])"
      ]
     },
     "execution_count": 216,
     "metadata": {},
     "output_type": "execute_result"
    }
   ],
   "source": [
    "test = contacts[contacts[\"p1\"] == 35]\n",
    "test.p2.unique()"
   ]
  },
  {
   "cell_type": "code",
   "execution_count": null,
   "metadata": {
    "collapsed": true
   },
   "outputs": [],
   "source": [
    "Employee 35 had a total interaction of 48 interactions"
   ]
  },
  {
   "cell_type": "code",
   "execution_count": 220,
   "metadata": {},
   "outputs": [
    {
     "data": {
      "text/plain": [
       "48"
      ]
     },
     "execution_count": 220,
     "metadata": {},
     "output_type": "execute_result"
    }
   ],
   "source": [
    "x[35]\n",
    "# y[35] there is no 35 in the p2 column "
   ]
  },
  {
   "cell_type": "markdown",
   "metadata": {},
   "source": [
    "**Characteristics of the Network**"
   ]
  },
  {
   "cell_type": "markdown",
   "metadata": {},
   "source": [
    "Network consists of 1 Giant Connected Component"
   ]
  },
  {
   "cell_type": "code",
   "execution_count": 234,
   "metadata": {},
   "outputs": [
    {
     "data": {
      "text/plain": [
       "1"
      ]
     },
     "execution_count": 234,
     "metadata": {},
     "output_type": "execute_result"
    }
   ],
   "source": [
    "nx.number_connected_components(graph_id)"
   ]
  },
  {
   "cell_type": "markdown",
   "metadata": {},
   "source": [
    "Average Degree = 16.4"
   ]
  },
  {
   "cell_type": "code",
   "execution_count": 222,
   "metadata": {},
   "outputs": [
    {
     "data": {
      "text/plain": [
       "16.41304347826087"
      ]
     },
     "execution_count": 222,
     "metadata": {},
     "output_type": "execute_result"
    }
   ],
   "source": [
    "# Average Degree\n",
    "graph_id_avg_degree = (2.0 * graph_id.number_of_edges())/graph_id.number_of_nodes()\n",
    "graph_id_avg_degree"
   ]
  },
  {
   "cell_type": "markdown",
   "metadata": {},
   "source": [
    "On Average, an employee interacts with approximately 18% of the other employees"
   ]
  },
  {
   "cell_type": "code",
   "execution_count": 229,
   "metadata": {},
   "outputs": [
    {
     "data": {
      "text/plain": [
       "0.17840264650283555"
      ]
     },
     "execution_count": 229,
     "metadata": {},
     "output_type": "execute_result"
    }
   ],
   "source": [
    "graph_id_avg_degree / d_num_rows"
   ]
  },
  {
   "cell_type": "code",
   "execution_count": 284,
   "metadata": {},
   "outputs": [
    {
     "data": {
      "text/plain": [
       "<Container object of 28 artists>"
      ]
     },
     "execution_count": 284,
     "metadata": {},
     "output_type": "execute_result"
    },
    {
     "data": {
      "image/png": "[encoded data removed]",
      "text/plain": [
       "<matplotlib.figure.Figure at 0x10d63fa58>"
      ]
     },
     "metadata": {},
     "output_type": "display_data"
    }
   ],
   "source": [
    "degrees = []\n",
    "for node in department[0]:\n",
    "    degrees.append(graph_id.degree(node))\n",
    "\n",
    "degrees = pd.Series(degrees).value_counts()\n",
    "\n",
    "d = degrees.index.values # get degrees\n",
    "count = degrees.values # get counts\n",
    "\n",
    "# Degree Distribution\n",
    "plt.bar(d, count)"
   ]
  },
  {
   "cell_type": "markdown",
   "metadata": {},
   "source": [
    "**Average # of Interactions Per Person**\n",
    "* avg = 213.63\n",
    "    * while each person doesn't interact with a lot of other unique people, they interact a lot with the same people over and over again\n",
    "* avg # of interactions per day = 19.42 (assuming 11 days)"
   ]
  },
  {
   "cell_type": "code",
   "execution_count": 334,
   "metadata": {},
   "outputs": [
    {
     "data": {
      "text/plain": [
       "213.63043478260869"
      ]
     },
     "execution_count": 334,
     "metadata": {},
     "output_type": "execute_result"
    }
   ],
   "source": [
    "interactions = {}\n",
    "\n",
    "p1_count = contacts[\"p1\"].value_counts() # holds counts for p1\n",
    "p2_count = contacts[\"p2\"].value_counts() # holds counts for p2\n",
    "\n",
    "for node in department[0]:\n",
    "    interactions[node] = p1_count.get(node, 0) + p2_count.get(node, 0)\n",
    "\n",
    "avg_interactions = np.mean(list(interactions.values())) # average # of interactions\n",
    "avg_interactions"
   ]
  },
  {
   "cell_type": "markdown",
   "metadata": {},
   "source": [
    "**Path Characteristics**"
   ]
  },
  {
   "cell_type": "code",
   "execution_count": 336,
   "metadata": {},
   "outputs": [
    {
     "data": {
      "text/plain": [
       "1.964405160057334"
      ]
     },
     "execution_count": 336,
     "metadata": {},
     "output_type": "execute_result"
    }
   ],
   "source": [
    "nx.average_shortest_path_length(graph_id)"
   ]
  },
  {
   "cell_type": "code",
   "execution_count": 337,
   "metadata": {},
   "outputs": [
    {
     "data": {
      "text/plain": [
       "3"
      ]
     },
     "execution_count": 337,
     "metadata": {},
     "output_type": "execute_result"
    }
   ],
   "source": [
    "nx.diameter(graph_id)"
   ]
  },
  {
   "cell_type": "code",
   "execution_count": 338,
   "metadata": {},
   "outputs": [
    {
     "data": {
      "text/plain": [
       "2"
      ]
     },
     "execution_count": 338,
     "metadata": {},
     "output_type": "execute_result"
    }
   ],
   "source": [
    "nx.radius(graph_id)"
   ]
  },
  {
   "cell_type": "markdown",
   "metadata": {},
   "source": [
    "**Analysis of Inter-department and Intra-department interactions**"
   ]
  },
  {
   "cell_type": "code",
   "execution_count": 351,
   "metadata": {},
   "outputs": [],
   "source": [
    "graph_dept = nx.from_pandas_dataframe(contacts, \"p1 department\", \"p2 department\", create_using =  nx.MultiGraph())"
   ]
  },
  {
   "cell_type": "markdown",
   "metadata": {},
   "source": [
    "* 82% of contacts are within one's own department\n",
    "* 18% of contacts are outside of one's own department"
   ]
  },
  {
   "cell_type": "code",
   "execution_count": 377,
   "metadata": {},
   "outputs": [
    {
     "data": {
      "text/plain": [
       "0.82029103490383637"
      ]
     },
     "execution_count": 377,
     "metadata": {},
     "output_type": "execute_result"
    }
   ],
   "source": [
    "sum(contacts[\"p1 department\"] == contacts[\"p2 department\"]) / c_num_rows"
   ]
  },
  {
   "cell_type": "markdown",
   "metadata": {},
   "source": [
    "**Finding # of Interactions**"
   ]
  },
  {
   "cell_type": "code",
   "execution_count": 439,
   "metadata": {},
   "outputs": [],
   "source": [
    "# finds the number of contacts between 2 departments\n",
    "def num_contacts(dept1, dept2, df, col1, col2):\n",
    "    data = df[((df[col1] == dept1) & (df[col2] == dept2)) | ((df[col1] == dept2) & (df[col2] == dept1))]\n",
    "    return data.shape[0]"
   ]
  },
  {
   "cell_type": "markdown",
   "metadata": {},
   "source": [
    "* inter_dept_interactions is a dict mapping departments to an array storing the # of interactions between itself and other departments\n",
    "    * array indices are recorded as follows\n",
    "        * 0 - num of interactions w/ **DISQ**\n",
    "        * 1 - num of interactions w/ **DSE**\n",
    "        * 2 - num of interactions w/ **SFLE**\n",
    "        * 3 - num of interactions w/ **DMCT**\n",
    "        * 4 - num of interactions w/ **SRH**"
   ]
  },
  {
   "cell_type": "code",
   "execution_count": 441,
   "metadata": {},
   "outputs": [
    {
     "data": {
      "text/plain": [
       "{'DISQ': [1194, 467, 58, 333, 27],\n",
       " 'DMCT': [333, 523, 21, 1435, 141],\n",
       " 'DSE': [467, 2820, 30, 523, 106],\n",
       " 'SFLE': [58, 30, 36, 21, 60],\n",
       " 'SRH': [27, 106, 60, 141, 2576]}"
      ]
     },
     "execution_count": 441,
     "metadata": {},
     "output_type": "execute_result"
    }
   ],
   "source": [
    "departments = department[1].unique() # unique departments\n",
    "inter_dept_interactions = {} # dict\n",
    "\n",
    "for i in range(len(departments)):\n",
    "    dept1 = departments[i]\n",
    "    # print(\"dept1: {}\".format(dept1))\n",
    "    dept_contacts = []\n",
    "    for j in range(len(departments)):\n",
    "        dept2 = departments[j]\n",
    "        # print(\"dept2: {}\".format(dept2))\n",
    "        dept_contacts.append(num_contacts(dept1, dept2, contacts, \"p1 department\", \"p2 department\"))\n",
    "        # print(dept_contacts)\n",
    "    inter_dept_interactions[dept1] = dept_contacts\n",
    "    \n",
    "inter_dept_interactions"
   ]
  }
 ],
 "metadata": {
  "kernelspec": {
   "display_name": "Python 3",
   "language": "python",
   "name": "python3"
  },
  "language_info": {
   "codemirror_mode": {
    "name": "ipython",
    "version": 3
   },
   "file_extension": ".py",
   "mimetype": "text/x-python",
   "name": "python",
   "nbconvert_exporter": "python",
   "pygments_lexer": "ipython3",
   "version": "3.6.1"
  }
 },
 "nbformat": 4,
 "nbformat_minor": 2
}
