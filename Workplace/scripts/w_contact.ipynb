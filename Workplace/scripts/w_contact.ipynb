{
 "cells": [
  {
   "cell_type": "markdown",
   "metadata": {},
   "source": [
    "## Workplace Contact Data Set "
   ]
  },
  {
   "cell_type": "code",
   "execution_count": 100,
   "metadata": {},
   "outputs": [
    {
     "name": "stderr",
     "output_type": "stream",
     "text": [
      "/Users/jeremyd/anaconda3/lib/python3.6/site-packages/ipykernel_launcher.py:7: UserWarning: \n",
      "This call to matplotlib.use() has no effect because the backend has already\n",
      "been chosen; matplotlib.use() must be called *before* pylab, matplotlib.pyplot,\n",
      "or matplotlib.backends is imported for the first time.\n",
      "\n",
      "The backend was *originally* set to 'module://ipykernel.pylab.backend_inline' by the following code:\n",
      "  File \"/Users/jeremyd/anaconda3/lib/python3.6/runpy.py\", line 193, in _run_module_as_main\n",
      "    \"__main__\", mod_spec)\n",
      "  File \"/Users/jeremyd/anaconda3/lib/python3.6/runpy.py\", line 85, in _run_code\n",
      "    exec(code, run_globals)\n",
      "  File \"/Users/jeremyd/anaconda3/lib/python3.6/site-packages/ipykernel_launcher.py\", line 16, in <module>\n",
      "    app.launch_new_instance()\n",
      "  File \"/Users/jeremyd/anaconda3/lib/python3.6/site-packages/traitlets/config/application.py\", line 658, in launch_instance\n",
      "    app.start()\n",
      "  File \"/Users/jeremyd/anaconda3/lib/python3.6/site-packages/ipykernel/kernelapp.py\", line 477, in start\n",
      "    ioloop.IOLoop.instance().start()\n",
      "  File \"/Users/jeremyd/anaconda3/lib/python3.6/site-packages/zmq/eventloop/ioloop.py\", line 177, in start\n",
      "    super(ZMQIOLoop, self).start()\n",
      "  File \"/Users/jeremyd/anaconda3/lib/python3.6/site-packages/tornado/ioloop.py\", line 888, in start\n",
      "    handler_func(fd_obj, events)\n",
      "  File \"/Users/jeremyd/anaconda3/lib/python3.6/site-packages/tornado/stack_context.py\", line 277, in null_wrapper\n",
      "    return fn(*args, **kwargs)\n",
      "  File \"/Users/jeremyd/anaconda3/lib/python3.6/site-packages/zmq/eventloop/zmqstream.py\", line 440, in _handle_events\n",
      "    self._handle_recv()\n",
      "  File \"/Users/jeremyd/anaconda3/lib/python3.6/site-packages/zmq/eventloop/zmqstream.py\", line 472, in _handle_recv\n",
      "    self._run_callback(callback, msg)\n",
      "  File \"/Users/jeremyd/anaconda3/lib/python3.6/site-packages/zmq/eventloop/zmqstream.py\", line 414, in _run_callback\n",
      "    callback(*args, **kwargs)\n",
      "  File \"/Users/jeremyd/anaconda3/lib/python3.6/site-packages/tornado/stack_context.py\", line 277, in null_wrapper\n",
      "    return fn(*args, **kwargs)\n",
      "  File \"/Users/jeremyd/anaconda3/lib/python3.6/site-packages/ipykernel/kernelbase.py\", line 283, in dispatcher\n",
      "    return self.dispatch_shell(stream, msg)\n",
      "  File \"/Users/jeremyd/anaconda3/lib/python3.6/site-packages/ipykernel/kernelbase.py\", line 235, in dispatch_shell\n",
      "    handler(stream, idents, msg)\n",
      "  File \"/Users/jeremyd/anaconda3/lib/python3.6/site-packages/ipykernel/kernelbase.py\", line 399, in execute_request\n",
      "    user_expressions, allow_stdin)\n",
      "  File \"/Users/jeremyd/anaconda3/lib/python3.6/site-packages/ipykernel/ipkernel.py\", line 196, in do_execute\n",
      "    res = shell.run_cell(code, store_history=store_history, silent=silent)\n",
      "  File \"/Users/jeremyd/anaconda3/lib/python3.6/site-packages/ipykernel/zmqshell.py\", line 533, in run_cell\n",
      "    return super(ZMQInteractiveShell, self).run_cell(*args, **kwargs)\n",
      "  File \"/Users/jeremyd/anaconda3/lib/python3.6/site-packages/IPython/core/interactiveshell.py\", line 2698, in run_cell\n",
      "    interactivity=interactivity, compiler=compiler, result=result)\n",
      "  File \"/Users/jeremyd/anaconda3/lib/python3.6/site-packages/IPython/core/interactiveshell.py\", line 2808, in run_ast_nodes\n",
      "    if self.run_code(code, result):\n",
      "  File \"/Users/jeremyd/anaconda3/lib/python3.6/site-packages/IPython/core/interactiveshell.py\", line 2862, in run_code\n",
      "    exec(code_obj, self.user_global_ns, self.user_ns)\n",
      "  File \"<ipython-input-79-7229f3f1396b>\", line 7, in <module>\n",
      "    get_ipython().magic('matplotlib inline')\n",
      "  File \"/Users/jeremyd/anaconda3/lib/python3.6/site-packages/IPython/core/interactiveshell.py\", line 2146, in magic\n",
      "    return self.run_line_magic(magic_name, magic_arg_s)\n",
      "  File \"/Users/jeremyd/anaconda3/lib/python3.6/site-packages/IPython/core/interactiveshell.py\", line 2067, in run_line_magic\n",
      "    result = fn(*args,**kwargs)\n",
      "  File \"<decorator-gen-107>\", line 2, in matplotlib\n",
      "  File \"/Users/jeremyd/anaconda3/lib/python3.6/site-packages/IPython/core/magic.py\", line 187, in <lambda>\n",
      "    call = lambda f, *a, **k: f(*a, **k)\n",
      "  File \"/Users/jeremyd/anaconda3/lib/python3.6/site-packages/IPython/core/magics/pylab.py\", line 99, in matplotlib\n",
      "    gui, backend = self.shell.enable_matplotlib(args.gui)\n",
      "  File \"/Users/jeremyd/anaconda3/lib/python3.6/site-packages/IPython/core/interactiveshell.py\", line 2930, in enable_matplotlib\n",
      "    pt.activate_matplotlib(backend)\n",
      "  File \"/Users/jeremyd/anaconda3/lib/python3.6/site-packages/IPython/core/pylabtools.py\", line 307, in activate_matplotlib\n",
      "    matplotlib.pyplot.switch_backend(backend)\n",
      "  File \"/Users/jeremyd/anaconda3/lib/python3.6/site-packages/matplotlib/pyplot.py\", line 229, in switch_backend\n",
      "    matplotlib.use(newbackend, warn=False, force=True)\n",
      "  File \"/Users/jeremyd/anaconda3/lib/python3.6/site-packages/matplotlib/__init__.py\", line 1305, in use\n",
      "    reload(sys.modules['matplotlib.backends'])\n",
      "  File \"/Users/jeremyd/anaconda3/lib/python3.6/importlib/__init__.py\", line 166, in reload\n",
      "    _bootstrap._exec(spec, module)\n",
      "  File \"/Users/jeremyd/anaconda3/lib/python3.6/site-packages/matplotlib/backends/__init__.py\", line 14, in <module>\n",
      "    line for line in traceback.format_stack()\n",
      "\n",
      "\n",
      "  import sys\n"
     ]
    }
   ],
   "source": [
    "import pandas as pd\n",
    "import numpy as np\n",
    "import networkx as nx\n",
    "import pickle\n",
    "\n",
    "import matplotlib\n",
    "matplotlib.use('Agg')\n",
    "%matplotlib inline"
   ]
  },
  {
   "cell_type": "code",
   "execution_count": 80,
   "metadata": {
    "collapsed": true
   },
   "outputs": [],
   "source": [
    "# Read in Contacts Data\n",
    "contacts = pd.read_csv(\"../data/contacts.csv\", header = None)\n",
    "\n",
    "# Read in Department Data\n",
    "department = pd.read_csv(\"../data/department.csv\", header = None)"
   ]
  },
  {
   "cell_type": "markdown",
   "metadata": {},
   "source": [
    "**Contact Data**\n",
    "* number of rows = 9827\n",
    "    * 9827 f-f interactions\n",
    "* number of columns = 3\n",
    "    * time\n",
    "    * id of p1\n",
    "    * id of p2"
   ]
  },
  {
   "cell_type": "code",
   "execution_count": 81,
   "metadata": {},
   "outputs": [
    {
     "data": {
      "text/plain": [
       "(9827, 3)"
      ]
     },
     "execution_count": 81,
     "metadata": {},
     "output_type": "execute_result"
    }
   ],
   "source": [
    "# dim stores [num rows, num cols]\n",
    "c_dimension = contacts.shape\n",
    "c_num_rows = c_dimension[0]\n",
    "c_num_cols = c_dimension[1]\n",
    "c_dimension"
   ]
  },
  {
   "cell_type": "markdown",
   "metadata": {},
   "source": [
    "**Department Data**\n",
    "* number of rows = 92\n",
    "    * 92 employees\n",
    "* number of columns = 2\n",
    "    * id\n",
    "    * department"
   ]
  },
  {
   "cell_type": "code",
   "execution_count": 82,
   "metadata": {},
   "outputs": [
    {
     "data": {
      "text/plain": [
       "(92, 2)"
      ]
     },
     "execution_count": 82,
     "metadata": {},
     "output_type": "execute_result"
    }
   ],
   "source": [
    "d_dimension = department.shape\n",
    "d_num_rows = d_dimension[0]\n",
    "d_num_cols = d_dimension[1]\n",
    "d_dimension"
   ]
  },
  {
   "cell_type": "markdown",
   "metadata": {},
   "source": [
    "**Cleaning the Data**  \n",
    "* Need to modify time column to start from 0"
   ]
  },
  {
   "cell_type": "code",
   "execution_count": 83,
   "metadata": {
    "collapsed": true
   },
   "outputs": [],
   "source": [
    "# fixes time\n",
    "def reduce_time(t):\n",
    "    return t - 28800"
   ]
  },
  {
   "cell_type": "code",
   "execution_count": 84,
   "metadata": {},
   "outputs": [],
   "source": [
    "contacts[0] = contacts[0].apply(reduce_time)"
   ]
  },
  {
   "cell_type": "markdown",
   "metadata": {},
   "source": [
    "**Combine Data Sets - Contacts + Department**"
   ]
  },
  {
   "cell_type": "markdown",
   "metadata": {
    "collapsed": true
   },
   "source": [
    "* Use Department Data Frame to build a map from id to department"
   ]
  },
  {
   "cell_type": "code",
   "execution_count": 85,
   "metadata": {
    "collapsed": true
   },
   "outputs": [],
   "source": [
    "map_id_dep = {}\n",
    "for i in range(d_num_rows):\n",
    "    map_id_dep[department.iloc[i, 0]] = department.iloc[i, 1]"
   ]
  },
  {
   "cell_type": "markdown",
   "metadata": {},
   "source": [
    "* Create a mapping from node id to floor "
   ]
  },
  {
   "cell_type": "code",
   "execution_count": 86,
   "metadata": {},
   "outputs": [],
   "source": [
    "map_id_floor = {}\n",
    "\n",
    "# look through node ids\n",
    "# if id is associated with a department on a floor, put id : 1 into the map\n",
    "# else put id : 0 into the map\n",
    "for id in map_id_dep.keys():\n",
    "    dept = map_id_dep[id]\n",
    "    if (dept == \"DSE\" or dept == \"SRH\"): \n",
    "        map_id_floor[id] = 0\n",
    "    else:\n",
    "        map_id_floor[id] = 1"
   ]
  },
  {
   "cell_type": "markdown",
   "metadata": {},
   "source": [
    "* Define a function that adds departments to a df"
   ]
  },
  {
   "cell_type": "code",
   "execution_count": 87,
   "metadata": {
    "collapsed": true
   },
   "outputs": [],
   "source": [
    "def add_department(people, name, df, map):\n",
    "    '''\n",
    "    people: series of people's id\n",
    "    name: string for name of the column\n",
    "    df: dataframe\n",
    "    map: map of id to department\n",
    "    '''\n",
    "    dep = []\n",
    "    for ind in people:\n",
    "        ind_dep = map.get(ind, -1)\n",
    "        dep.append(ind_dep)\n",
    "    \n",
    "    df[name] = np.array(dep)"
   ]
  },
  {
   "cell_type": "code",
   "execution_count": 88,
   "metadata": {},
   "outputs": [
    {
     "data": {
      "text/html": [
       "<div>\n",
       "<style>\n",
       "    .dataframe thead tr:only-child th {\n",
       "        text-align: right;\n",
       "    }\n",
       "\n",
       "    .dataframe thead th {\n",
       "        text-align: left;\n",
       "    }\n",
       "\n",
       "    .dataframe tbody tr th {\n",
       "        vertical-align: top;\n",
       "    }\n",
       "</style>\n",
       "<table border=\"1\" class=\"dataframe\">\n",
       "  <thead>\n",
       "    <tr style=\"text-align: right;\">\n",
       "      <th></th>\n",
       "      <th>0</th>\n",
       "      <th>1</th>\n",
       "      <th>2</th>\n",
       "      <th>d1</th>\n",
       "    </tr>\n",
       "  </thead>\n",
       "  <tbody>\n",
       "    <tr>\n",
       "      <th>0</th>\n",
       "      <td>20</td>\n",
       "      <td>492</td>\n",
       "      <td>938</td>\n",
       "      <td>SRH</td>\n",
       "    </tr>\n",
       "    <tr>\n",
       "      <th>1</th>\n",
       "      <td>60</td>\n",
       "      <td>267</td>\n",
       "      <td>272</td>\n",
       "      <td>DSE</td>\n",
       "    </tr>\n",
       "    <tr>\n",
       "      <th>2</th>\n",
       "      <td>500</td>\n",
       "      <td>181</td>\n",
       "      <td>826</td>\n",
       "      <td>DSE</td>\n",
       "    </tr>\n",
       "    <tr>\n",
       "      <th>3</th>\n",
       "      <td>980</td>\n",
       "      <td>79</td>\n",
       "      <td>181</td>\n",
       "      <td>DSE</td>\n",
       "    </tr>\n",
       "    <tr>\n",
       "      <th>4</th>\n",
       "      <td>1200</td>\n",
       "      <td>150</td>\n",
       "      <td>196</td>\n",
       "      <td>SRH</td>\n",
       "    </tr>\n",
       "  </tbody>\n",
       "</table>\n",
       "</div>"
      ],
      "text/plain": [
       "      0    1    2   d1\n",
       "0    20  492  938  SRH\n",
       "1    60  267  272  DSE\n",
       "2   500  181  826  DSE\n",
       "3   980   79  181  DSE\n",
       "4  1200  150  196  SRH"
      ]
     },
     "execution_count": 88,
     "metadata": {},
     "output_type": "execute_result"
    }
   ],
   "source": [
    "p1 = contacts[1] \n",
    "n1 = \"d1\"\n",
    "add_department(p1, n1, contacts, map_id_dep)\n",
    "\n",
    "contacts.head()"
   ]
  },
  {
   "cell_type": "code",
   "execution_count": 89,
   "metadata": {},
   "outputs": [
    {
     "data": {
      "text/html": [
       "<div>\n",
       "<style>\n",
       "    .dataframe thead tr:only-child th {\n",
       "        text-align: right;\n",
       "    }\n",
       "\n",
       "    .dataframe thead th {\n",
       "        text-align: left;\n",
       "    }\n",
       "\n",
       "    .dataframe tbody tr th {\n",
       "        vertical-align: top;\n",
       "    }\n",
       "</style>\n",
       "<table border=\"1\" class=\"dataframe\">\n",
       "  <thead>\n",
       "    <tr style=\"text-align: right;\">\n",
       "      <th></th>\n",
       "      <th>0</th>\n",
       "      <th>1</th>\n",
       "      <th>2</th>\n",
       "      <th>d1</th>\n",
       "      <th>d2</th>\n",
       "    </tr>\n",
       "  </thead>\n",
       "  <tbody>\n",
       "    <tr>\n",
       "      <th>0</th>\n",
       "      <td>20</td>\n",
       "      <td>492</td>\n",
       "      <td>938</td>\n",
       "      <td>SRH</td>\n",
       "      <td>DMCT</td>\n",
       "    </tr>\n",
       "    <tr>\n",
       "      <th>1</th>\n",
       "      <td>60</td>\n",
       "      <td>267</td>\n",
       "      <td>272</td>\n",
       "      <td>DSE</td>\n",
       "      <td>DSE</td>\n",
       "    </tr>\n",
       "    <tr>\n",
       "      <th>2</th>\n",
       "      <td>500</td>\n",
       "      <td>181</td>\n",
       "      <td>826</td>\n",
       "      <td>DSE</td>\n",
       "      <td>DISQ</td>\n",
       "    </tr>\n",
       "    <tr>\n",
       "      <th>3</th>\n",
       "      <td>980</td>\n",
       "      <td>79</td>\n",
       "      <td>181</td>\n",
       "      <td>DSE</td>\n",
       "      <td>DSE</td>\n",
       "    </tr>\n",
       "    <tr>\n",
       "      <th>4</th>\n",
       "      <td>1200</td>\n",
       "      <td>150</td>\n",
       "      <td>196</td>\n",
       "      <td>SRH</td>\n",
       "      <td>DSE</td>\n",
       "    </tr>\n",
       "  </tbody>\n",
       "</table>\n",
       "</div>"
      ],
      "text/plain": [
       "      0    1    2   d1    d2\n",
       "0    20  492  938  SRH  DMCT\n",
       "1    60  267  272  DSE   DSE\n",
       "2   500  181  826  DSE  DISQ\n",
       "3   980   79  181  DSE   DSE\n",
       "4  1200  150  196  SRH   DSE"
      ]
     },
     "execution_count": 89,
     "metadata": {},
     "output_type": "execute_result"
    }
   ],
   "source": [
    "p2 = contacts[2]\n",
    "n2 = \"d2\"\n",
    "add_department(p2, n2, contacts, map_id_dep)\n",
    "\n",
    "contacts.head()"
   ]
  },
  {
   "cell_type": "markdown",
   "metadata": {},
   "source": [
    "* Add Floors to the DataFrame"
   ]
  },
  {
   "cell_type": "code",
   "execution_count": 90,
   "metadata": {
    "collapsed": true
   },
   "outputs": [],
   "source": [
    "def add_floor(nodes, name, df, map):\n",
    "    '''\n",
    "    people: series of people's id\n",
    "    name: string for name of the column\n",
    "    df: dataframe\n",
    "    map: map of id to department\n",
    "    '''\n",
    "    floor = []\n",
    "    for n in nodes:\n",
    "        n_floor = map.get(n, -1)\n",
    "        floor.append(n_floor)\n",
    "    \n",
    "    df[name] = np.array(floor)"
   ]
  },
  {
   "cell_type": "code",
   "execution_count": 96,
   "metadata": {},
   "outputs": [
    {
     "data": {
      "text/html": [
       "<div>\n",
       "<style>\n",
       "    .dataframe thead tr:only-child th {\n",
       "        text-align: right;\n",
       "    }\n",
       "\n",
       "    .dataframe thead th {\n",
       "        text-align: left;\n",
       "    }\n",
       "\n",
       "    .dataframe tbody tr th {\n",
       "        vertical-align: top;\n",
       "    }\n",
       "</style>\n",
       "<table border=\"1\" class=\"dataframe\">\n",
       "  <thead>\n",
       "    <tr style=\"text-align: right;\">\n",
       "      <th></th>\n",
       "      <th>0</th>\n",
       "      <th>1</th>\n",
       "      <th>2</th>\n",
       "      <th>d1</th>\n",
       "      <th>d2</th>\n",
       "      <th>f1</th>\n",
       "    </tr>\n",
       "  </thead>\n",
       "  <tbody>\n",
       "    <tr>\n",
       "      <th>0</th>\n",
       "      <td>20</td>\n",
       "      <td>492</td>\n",
       "      <td>938</td>\n",
       "      <td>SRH</td>\n",
       "      <td>DMCT</td>\n",
       "      <td>0</td>\n",
       "    </tr>\n",
       "    <tr>\n",
       "      <th>1</th>\n",
       "      <td>60</td>\n",
       "      <td>267</td>\n",
       "      <td>272</td>\n",
       "      <td>DSE</td>\n",
       "      <td>DSE</td>\n",
       "      <td>0</td>\n",
       "    </tr>\n",
       "    <tr>\n",
       "      <th>2</th>\n",
       "      <td>500</td>\n",
       "      <td>181</td>\n",
       "      <td>826</td>\n",
       "      <td>DSE</td>\n",
       "      <td>DISQ</td>\n",
       "      <td>0</td>\n",
       "    </tr>\n",
       "    <tr>\n",
       "      <th>3</th>\n",
       "      <td>980</td>\n",
       "      <td>79</td>\n",
       "      <td>181</td>\n",
       "      <td>DSE</td>\n",
       "      <td>DSE</td>\n",
       "      <td>0</td>\n",
       "    </tr>\n",
       "    <tr>\n",
       "      <th>4</th>\n",
       "      <td>1200</td>\n",
       "      <td>150</td>\n",
       "      <td>196</td>\n",
       "      <td>SRH</td>\n",
       "      <td>DSE</td>\n",
       "      <td>0</td>\n",
       "    </tr>\n",
       "  </tbody>\n",
       "</table>\n",
       "</div>"
      ],
      "text/plain": [
       "      0    1    2   d1    d2  f1\n",
       "0    20  492  938  SRH  DMCT   0\n",
       "1    60  267  272  DSE   DSE   0\n",
       "2   500  181  826  DSE  DISQ   0\n",
       "3   980   79  181  DSE   DSE   0\n",
       "4  1200  150  196  SRH   DSE   0"
      ]
     },
     "execution_count": 96,
     "metadata": {},
     "output_type": "execute_result"
    }
   ],
   "source": [
    "nodes1 = contacts[1]\n",
    "name1 = \"f1\"\n",
    "add_floor(nodes1, name1, contacts, map_id_floor)\n",
    "\n",
    "contacts.head()"
   ]
  },
  {
   "cell_type": "code",
   "execution_count": 98,
   "metadata": {},
   "outputs": [
    {
     "data": {
      "text/html": [
       "<div>\n",
       "<style>\n",
       "    .dataframe thead tr:only-child th {\n",
       "        text-align: right;\n",
       "    }\n",
       "\n",
       "    .dataframe thead th {\n",
       "        text-align: left;\n",
       "    }\n",
       "\n",
       "    .dataframe tbody tr th {\n",
       "        vertical-align: top;\n",
       "    }\n",
       "</style>\n",
       "<table border=\"1\" class=\"dataframe\">\n",
       "  <thead>\n",
       "    <tr style=\"text-align: right;\">\n",
       "      <th></th>\n",
       "      <th>0</th>\n",
       "      <th>1</th>\n",
       "      <th>2</th>\n",
       "      <th>d1</th>\n",
       "      <th>d2</th>\n",
       "      <th>f1</th>\n",
       "      <th>f2</th>\n",
       "    </tr>\n",
       "  </thead>\n",
       "  <tbody>\n",
       "    <tr>\n",
       "      <th>0</th>\n",
       "      <td>20</td>\n",
       "      <td>492</td>\n",
       "      <td>938</td>\n",
       "      <td>SRH</td>\n",
       "      <td>DMCT</td>\n",
       "      <td>0</td>\n",
       "      <td>1</td>\n",
       "    </tr>\n",
       "    <tr>\n",
       "      <th>1</th>\n",
       "      <td>60</td>\n",
       "      <td>267</td>\n",
       "      <td>272</td>\n",
       "      <td>DSE</td>\n",
       "      <td>DSE</td>\n",
       "      <td>0</td>\n",
       "      <td>0</td>\n",
       "    </tr>\n",
       "    <tr>\n",
       "      <th>2</th>\n",
       "      <td>500</td>\n",
       "      <td>181</td>\n",
       "      <td>826</td>\n",
       "      <td>DSE</td>\n",
       "      <td>DISQ</td>\n",
       "      <td>0</td>\n",
       "      <td>1</td>\n",
       "    </tr>\n",
       "    <tr>\n",
       "      <th>3</th>\n",
       "      <td>980</td>\n",
       "      <td>79</td>\n",
       "      <td>181</td>\n",
       "      <td>DSE</td>\n",
       "      <td>DSE</td>\n",
       "      <td>0</td>\n",
       "      <td>0</td>\n",
       "    </tr>\n",
       "    <tr>\n",
       "      <th>4</th>\n",
       "      <td>1200</td>\n",
       "      <td>150</td>\n",
       "      <td>196</td>\n",
       "      <td>SRH</td>\n",
       "      <td>DSE</td>\n",
       "      <td>0</td>\n",
       "      <td>0</td>\n",
       "    </tr>\n",
       "  </tbody>\n",
       "</table>\n",
       "</div>"
      ],
      "text/plain": [
       "      0    1    2   d1    d2  f1  f2\n",
       "0    20  492  938  SRH  DMCT   0   1\n",
       "1    60  267  272  DSE   DSE   0   0\n",
       "2   500  181  826  DSE  DISQ   0   1\n",
       "3   980   79  181  DSE   DSE   0   0\n",
       "4  1200  150  196  SRH   DSE   0   0"
      ]
     },
     "execution_count": 98,
     "metadata": {},
     "output_type": "execute_result"
    }
   ],
   "source": [
    "nodes2 = contacts[2]\n",
    "name2 = \"f2\"\n",
    "add_floor(nodes2, name2, contacts, map_id_floor)\n",
    "\n",
    "contacts.head()"
   ]
  },
  {
   "cell_type": "markdown",
   "metadata": {},
   "source": [
    "### Contacts - Cleaned and Modified DF"
   ]
  },
  {
   "cell_type": "code",
   "execution_count": 99,
   "metadata": {},
   "outputs": [
    {
     "data": {
      "text/html": [
       "<div>\n",
       "<style>\n",
       "    .dataframe thead tr:only-child th {\n",
       "        text-align: right;\n",
       "    }\n",
       "\n",
       "    .dataframe thead th {\n",
       "        text-align: left;\n",
       "    }\n",
       "\n",
       "    .dataframe tbody tr th {\n",
       "        vertical-align: top;\n",
       "    }\n",
       "</style>\n",
       "<table border=\"1\" class=\"dataframe\">\n",
       "  <thead>\n",
       "    <tr style=\"text-align: right;\">\n",
       "      <th></th>\n",
       "      <th>time</th>\n",
       "      <th>n1</th>\n",
       "      <th>n2</th>\n",
       "      <th>d1</th>\n",
       "      <th>d2</th>\n",
       "      <th>f1</th>\n",
       "      <th>f2</th>\n",
       "    </tr>\n",
       "  </thead>\n",
       "  <tbody>\n",
       "    <tr>\n",
       "      <th>0</th>\n",
       "      <td>20</td>\n",
       "      <td>492</td>\n",
       "      <td>938</td>\n",
       "      <td>SRH</td>\n",
       "      <td>DMCT</td>\n",
       "      <td>0</td>\n",
       "      <td>1</td>\n",
       "    </tr>\n",
       "    <tr>\n",
       "      <th>1</th>\n",
       "      <td>60</td>\n",
       "      <td>267</td>\n",
       "      <td>272</td>\n",
       "      <td>DSE</td>\n",
       "      <td>DSE</td>\n",
       "      <td>0</td>\n",
       "      <td>0</td>\n",
       "    </tr>\n",
       "    <tr>\n",
       "      <th>2</th>\n",
       "      <td>500</td>\n",
       "      <td>181</td>\n",
       "      <td>826</td>\n",
       "      <td>DSE</td>\n",
       "      <td>DISQ</td>\n",
       "      <td>0</td>\n",
       "      <td>1</td>\n",
       "    </tr>\n",
       "    <tr>\n",
       "      <th>3</th>\n",
       "      <td>980</td>\n",
       "      <td>79</td>\n",
       "      <td>181</td>\n",
       "      <td>DSE</td>\n",
       "      <td>DSE</td>\n",
       "      <td>0</td>\n",
       "      <td>0</td>\n",
       "    </tr>\n",
       "    <tr>\n",
       "      <th>4</th>\n",
       "      <td>1200</td>\n",
       "      <td>150</td>\n",
       "      <td>196</td>\n",
       "      <td>SRH</td>\n",
       "      <td>DSE</td>\n",
       "      <td>0</td>\n",
       "      <td>0</td>\n",
       "    </tr>\n",
       "  </tbody>\n",
       "</table>\n",
       "</div>"
      ],
      "text/plain": [
       "   time   n1   n2   d1    d2  f1  f2\n",
       "0    20  492  938  SRH  DMCT   0   1\n",
       "1    60  267  272  DSE   DSE   0   0\n",
       "2   500  181  826  DSE  DISQ   0   1\n",
       "3   980   79  181  DSE   DSE   0   0\n",
       "4  1200  150  196  SRH   DSE   0   0"
      ]
     },
     "execution_count": 99,
     "metadata": {},
     "output_type": "execute_result"
    }
   ],
   "source": [
    "contacts = contacts.rename(index = str, columns = {0 : \"time\", 1 : \"n1\", 2 : \"n2\"})\n",
    "contacts.head()"
   ]
  },
  {
   "cell_type": "code",
   "execution_count": 106,
   "metadata": {},
   "outputs": [],
   "source": [
    "filehandler = open(\"contacts_df.pickle\", \"wb\")\n",
    "pickle.dump(contacts, filehandler)"
   ]
  },
  {
   "cell_type": "markdown",
   "metadata": {},
   "source": [
    "### graph_id - networkx graph (nodes = id)"
   ]
  },
  {
   "cell_type": "code",
   "execution_count": 49,
   "metadata": {
    "collapsed": true
   },
   "outputs": [],
   "source": [
    "graph_id = nx.from_pandas_dataframe(contacts, \"p1\", \"p2\", \"time\")\n"
   ]
  },
  {
   "cell_type": "code",
   "execution_count": 50,
   "metadata": {},
   "outputs": [
    {
     "data": {
      "text/plain": [
       "NodeView((492, 938, 267, 272, 181, 826, 79, 150, 196, 21, 205, 448, 765, 39, 253, 80, 123, 845, 118, 311, 95, 771, 153, 164, 179, 481, 122, 120, 819, 431, 778, 271, 601, 15, 56, 194, 786, 603, 496, 275, 222, 50, 172, 29, 223, 116, 285, 762, 63, 939, 335, 105, 113, 513, 119, 154, 494, 48, 209, 17, 66, 102, 134, 240, 242, 804, 511, 875, 184, 499, 268, 185, 533, 987, 210, 35, 131, 211, 751, 265, 784, 273, 662, 709, 101, 779, 132, 255, 213, 791, 743, 87))"
      ]
     },
     "execution_count": 50,
     "metadata": {},
     "output_type": "execute_result"
    }
   ],
   "source": [
    "graph_id.nodes()"
   ]
  },
  {
   "cell_type": "code",
   "execution_count": 51,
   "metadata": {},
   "outputs": [
    {
     "data": {
      "text/plain": [
       "92"
      ]
     },
     "execution_count": 51,
     "metadata": {},
     "output_type": "execute_result"
    }
   ],
   "source": [
    "graph_id.number_of_nodes()"
   ]
  },
  {
   "cell_type": "code",
   "execution_count": 52,
   "metadata": {},
   "outputs": [
    {
     "data": {
      "text/plain": [
       "755"
      ]
     },
     "execution_count": 52,
     "metadata": {},
     "output_type": "execute_result"
    }
   ],
   "source": [
    "graph_id.number_of_edges()"
   ]
  },
  {
   "cell_type": "code",
   "execution_count": 53,
   "metadata": {
    "scrolled": false
   },
   "outputs": [
    {
     "data": {
      "image/png": "[encoded data removed]",
      "text/plain": [
       "<matplotlib.figure.Figure at 0x15136cfe80>"
      ]
     },
     "metadata": {},
     "output_type": "display_data"
    }
   ],
   "source": [
    "nx.draw(graph_id)"
   ]
  },
  {
   "cell_type": "markdown",
   "metadata": {},
   "source": [
    "Edges in a Graph represent at least 1 face to face interaction between employees"
   ]
  },
  {
   "cell_type": "code",
   "execution_count": 54,
   "metadata": {},
   "outputs": [
    {
     "data": {
      "text/plain": [
       "[210, 845, 826, 804, 273, 253, 265, 268, 185, 778, 743, 255]"
      ]
     },
     "execution_count": 54,
     "metadata": {},
     "output_type": "execute_result"
    }
   ],
   "source": [
    "list(graph_id.neighbors(35))"
   ]
  },
  {
   "cell_type": "markdown",
   "metadata": {},
   "source": [
    "Employee 35 interacted with 12 unique people"
   ]
  },
  {
   "cell_type": "code",
   "execution_count": 55,
   "metadata": {},
   "outputs": [
    {
     "data": {
      "text/plain": [
       "array([210, 845, 826, 804, 273, 253, 265, 268, 185, 778, 743, 255])"
      ]
     },
     "execution_count": 55,
     "metadata": {},
     "output_type": "execute_result"
    }
   ],
   "source": [
    "test = contacts[contacts[\"p1\"] == 35]\n",
    "test.p2.unique()"
   ]
  },
  {
   "cell_type": "markdown",
   "metadata": {
    "collapsed": true
   },
   "source": [
    "Employee 35 had a total interaction of 48 interactions"
   ]
  },
  {
   "cell_type": "markdown",
   "metadata": {},
   "source": [
    "**Characteristics of the Network**"
   ]
  },
  {
   "cell_type": "markdown",
   "metadata": {},
   "source": [
    "Network consists of 1 Giant Connected Component"
   ]
  },
  {
   "cell_type": "code",
   "execution_count": 56,
   "metadata": {},
   "outputs": [
    {
     "data": {
      "text/plain": [
       "1"
      ]
     },
     "execution_count": 56,
     "metadata": {},
     "output_type": "execute_result"
    }
   ],
   "source": [
    "nx.number_connected_components(graph_id)"
   ]
  },
  {
   "cell_type": "markdown",
   "metadata": {},
   "source": [
    "Average Degree = 16.4"
   ]
  },
  {
   "cell_type": "code",
   "execution_count": 57,
   "metadata": {},
   "outputs": [
    {
     "data": {
      "text/plain": [
       "16.41304347826087"
      ]
     },
     "execution_count": 57,
     "metadata": {},
     "output_type": "execute_result"
    }
   ],
   "source": [
    "# Average Degree\n",
    "graph_id_avg_degree = (2.0 * graph_id.number_of_edges())/graph_id.number_of_nodes()\n",
    "graph_id_avg_degree"
   ]
  },
  {
   "cell_type": "markdown",
   "metadata": {},
   "source": [
    "On Average, an employee interacts with approximately 18% of the other employees"
   ]
  },
  {
   "cell_type": "code",
   "execution_count": 58,
   "metadata": {},
   "outputs": [
    {
     "data": {
      "text/plain": [
       "0.17840264650283555"
      ]
     },
     "execution_count": 58,
     "metadata": {},
     "output_type": "execute_result"
    }
   ],
   "source": [
    "graph_id_avg_degree / d_num_rows"
   ]
  },
  {
   "cell_type": "code",
   "execution_count": 59,
   "metadata": {},
   "outputs": [
    {
     "ename": "NameError",
     "evalue": "name 'plt' is not defined",
     "output_type": "error",
     "traceback": [
      "\u001b[0;31m---------------------------------------------------------------------------\u001b[0m",
      "\u001b[0;31mNameError\u001b[0m                                 Traceback (most recent call last)",
      "\u001b[0;32m<ipython-input-59-c7ca3c70e3da>\u001b[0m in \u001b[0;36m<module>\u001b[0;34m()\u001b[0m\n\u001b[1;32m      9\u001b[0m \u001b[0;34m\u001b[0m\u001b[0m\n\u001b[1;32m     10\u001b[0m \u001b[0;31m# Degree Distribution\u001b[0m\u001b[0;34m\u001b[0m\u001b[0;34m\u001b[0m\u001b[0m\n\u001b[0;32m---> 11\u001b[0;31m \u001b[0mplt\u001b[0m\u001b[0;34m.\u001b[0m\u001b[0mbar\u001b[0m\u001b[0;34m(\u001b[0m\u001b[0md\u001b[0m\u001b[0;34m,\u001b[0m \u001b[0mcount\u001b[0m\u001b[0;34m)\u001b[0m\u001b[0;34m\u001b[0m\u001b[0m\n\u001b[0m",
      "\u001b[0;31mNameError\u001b[0m: name 'plt' is not defined"
     ]
    }
   ],
   "source": [
    "degrees = []\n",
    "for node in department[0]:\n",
    "    degrees.append(graph_id.degree(node))\n",
    "\n",
    "degrees = pd.Series(degrees).value_counts()\n",
    "\n",
    "d = degrees.index.values # get degrees\n",
    "count = degrees.values # get counts\n",
    "\n",
    "# Degree Distribution\n",
    "plt.bar(d, count)"
   ]
  },
  {
   "cell_type": "markdown",
   "metadata": {},
   "source": [
    "**Average # of Interactions Per Person**\n",
    "* avg = 213.63\n",
    "    * while each person doesn't interact with a lot of other unique people, they interact a lot with the same people over and over again\n",
    "* avg # of interactions per day = 19.42 (assuming 11 days)"
   ]
  },
  {
   "cell_type": "code",
   "execution_count": null,
   "metadata": {},
   "outputs": [],
   "source": [
    "interactions = {}\n",
    "\n",
    "p1_count = contacts[\"p1\"].value_counts() # holds counts for p1\n",
    "p2_count = contacts[\"p2\"].value_counts() # holds counts for p2\n",
    "\n",
    "for node in department[0]:\n",
    "    interactions[node] = p1_count.get(node, 0) + p2_count.get(node, 0)\n",
    "\n",
    "avg_interactions = np.mean(list(interactions.values())) # average # of interactions\n",
    "avg_interactions"
   ]
  },
  {
   "cell_type": "markdown",
   "metadata": {},
   "source": [
    "**Path Characteristics**"
   ]
  },
  {
   "cell_type": "code",
   "execution_count": null,
   "metadata": {},
   "outputs": [],
   "source": [
    "nx.average_shortest_path_length(graph_id)"
   ]
  },
  {
   "cell_type": "code",
   "execution_count": null,
   "metadata": {},
   "outputs": [],
   "source": [
    "nx.diameter(graph_id)"
   ]
  },
  {
   "cell_type": "code",
   "execution_count": null,
   "metadata": {},
   "outputs": [],
   "source": [
    "nx.radius(graph_id)"
   ]
  },
  {
   "cell_type": "markdown",
   "metadata": {},
   "source": [
    "**Analysis of Inter-department and Intra-department interactions**"
   ]
  },
  {
   "cell_type": "code",
   "execution_count": null,
   "metadata": {
    "collapsed": true
   },
   "outputs": [],
   "source": [
    "graph_dept = nx.from_pandas_dataframe(contacts, \"p1 department\", \"p2 department\", create_using =  nx.MultiGraph())"
   ]
  },
  {
   "cell_type": "markdown",
   "metadata": {},
   "source": [
    "* 82% of contacts are within one's own department\n",
    "* 18% of contacts are outside of one's own department"
   ]
  },
  {
   "cell_type": "code",
   "execution_count": null,
   "metadata": {},
   "outputs": [],
   "source": [
    "sum(contacts[\"p1 department\"] == contacts[\"p2 department\"]) / c_num_rows"
   ]
  },
  {
   "cell_type": "markdown",
   "metadata": {},
   "source": [
    "**Finding # of Interactions**"
   ]
  },
  {
   "cell_type": "code",
   "execution_count": null,
   "metadata": {
    "collapsed": true
   },
   "outputs": [],
   "source": [
    "# finds the number of contacts between 2 departments\n",
    "def num_contacts(dept1, dept2, df, col1, col2):\n",
    "    data = df[((df[col1] == dept1) & (df[col2] == dept2)) | ((df[col1] == dept2) & (df[col2] == dept1))]\n",
    "    return data.shape[0]"
   ]
  },
  {
   "cell_type": "markdown",
   "metadata": {},
   "source": [
    "* inter_dept_interactions is a dict mapping departments to an array storing the # of interactions between itself and other departments\n",
    "    * array indices are recorded as follows\n",
    "        * 0 - num of interactions w/ **DISQ**\n",
    "        * 1 - num of interactions w/ **DSE**\n",
    "        * 2 - num of interactions w/ **SFLE**\n",
    "        * 3 - num of interactions w/ **DMCT**\n",
    "        * 4 - num of interactions w/ **SRH**"
   ]
  },
  {
   "cell_type": "code",
   "execution_count": null,
   "metadata": {},
   "outputs": [],
   "source": [
    "departments = department[1].unique() # unique departments\n",
    "dept_interactions = {} # dict\n",
    "\n",
    "for i in range(len(departments)):\n",
    "    dept1 = departments[i]\n",
    "    # print(\"dept1: {}\".format(dept1))\n",
    "    dept_contacts = []\n",
    "    for j in range(len(departments)):\n",
    "        dept2 = departments[j]\n",
    "        # print(\"dept2: {}\".format(dept2))\n",
    "        dept_contacts.append(num_contacts(dept1, dept2, contacts, \"p1 department\", \"p2 department\"))\n",
    "        # print(dept_contacts)\n",
    "    dept_interactions[dept1] = dept_contacts\n",
    "    \n",
    "dept_interactions"
   ]
  },
  {
   "cell_type": "code",
   "execution_count": null,
   "metadata": {},
   "outputs": [],
   "source": [
    "df_dept_counts = pd.DataFrame(dept_interactions, index = [\"DISQ\", \"DSE\", \"SFLE\", \"DMCT\", \"SRH\"])\n",
    "df_dept_counts = df_dept_counts.T\n",
    "\n",
    "df_dept_counts"
   ]
  },
  {
   "cell_type": "code",
   "execution_count": null,
   "metadata": {},
   "outputs": [],
   "source": [
    "dept_ratios = {}\n",
    "for key in dept_interactions.keys():\n",
    "    dept_ratios[key] = dept_interactions[key] / np.sum(dept_interactions[key])\n",
    "\n",
    "dept_ratios"
   ]
  },
  {
   "cell_type": "markdown",
   "metadata": {},
   "source": [
    "**Table of Departmental Interactions**\n",
    "* rows = departments\n",
    "* columns = departments that department interacts with  \n",
    "\n",
    "Note: Discrepancy between SRH - DISQ vs DISQ - SRH comes from dividing by sum"
   ]
  },
  {
   "cell_type": "code",
   "execution_count": null,
   "metadata": {},
   "outputs": [],
   "source": [
    "df_dept = pd.DataFrame(dept_ratios, index = [\"DISQ\", \"DSE\", \"SFLE\", \"DMCT\", \"SRH\"])\n",
    "df_dept = df_dept.T\n",
    "\n",
    "df_dept"
   ]
  },
  {
   "cell_type": "markdown",
   "metadata": {},
   "source": [
    "**Observations**\n",
    "* DISQ - 57% internal\n",
    "* DMCT - 58% internal\n",
    "* DSE - 71% internal\n",
    "* SFLE - 18% internal\n",
    "* SRH - 89% internal\n",
    "\n",
    "Note: Interactions don't seem to be split by floors. Interactions are heavily influenced by the role of the department. Confirms finding that research groups form a subnetwork of connectedness"
   ]
  },
  {
   "cell_type": "markdown",
   "metadata": {},
   "source": [
    "** Additional Explorations **"
   ]
  },
  {
   "cell_type": "code",
   "execution_count": null,
   "metadata": {
    "collapsed": true
   },
   "outputs": [],
   "source": []
  }
 ],
 "metadata": {
  "kernelspec": {
   "display_name": "Python 3",
   "language": "python",
   "name": "python3"
  },
  "language_info": {
   "codemirror_mode": {
    "name": "ipython",
    "version": 3
   },
   "file_extension": ".py",
   "mimetype": "text/x-python",
   "name": "python",
   "nbconvert_exporter": "python",
   "pygments_lexer": "ipython3",
   "version": "3.6.3"
  }
 },
 "nbformat": 4,
 "nbformat_minor": 2
}
